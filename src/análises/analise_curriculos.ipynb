{
 "cells": [
  {
   "cell_type": "code",
   "execution_count": 608,
   "metadata": {},
   "outputs": [],
   "source": [
    "import nltk\n",
    "from nltk.corpus import stopwords\n",
    "from nltk.stem import PorterStemmer\n",
    "from sklearn.feature_extraction.text import TfidfVectorizer\n",
    "from PyPDF2 import PdfReader\n",
    "import re\n",
    "import os\n",
    "import string\n",
    "from unidecode import unidecode"
   ]
  },
  {
   "cell_type": "code",
   "execution_count": 609,
   "metadata": {},
   "outputs": [
    {
     "name": "stdout",
     "output_type": "stream",
     "text": [
      "Nome: Ana Silva  \n",
      "Idade: 18 anos  \n",
      "Objetivo: Oportunidade de trabalho em área  administrativa.  \n",
      "Formação:  \n",
      "Ensino Médio Completo - Escola Estadual São Paulo (2018 -2021)  \n",
      "Experiência Profissional:  \n",
      "Atendente de Lanchonete - Lanchonete São João (jan/2022 - atualmente)  \n",
      "Atendimento ao cliente;  \n",
      "Preparação de lanches e bebidas;  \n",
      "Manutenção da limpeza e organização do ambiente.  \n",
      "Habilidades:  \n",
      "Habilidade em lidar com clientes;  \n",
      "Boa comunicação oral e escrita;  \n",
      "Organização e facilidade em trabalhar em equipe;  \n",
      "Conhecimento básico em informática.  \n",
      "Regime de trabalho: Presencial ou híbrido.  \n"
     ]
    }
   ],
   "source": [
    "#Obtendo os currículos e os colocando numa lista.\n",
    "diretório = 'curriculos'\n",
    "curriculos = []\n",
    "for filename in os.listdir(diretório):\n",
    "    curriculo_path = os.path.join(diretório, filename)\n",
    "\n",
    "    reader = PdfReader(curriculo_path)\n",
    "    text = []\n",
    "    for page in reader.pages:\n",
    "        text.append(page.extract_text())\n",
    "    text = \" \".join(text)\n",
    "    curriculos.append(text)\n",
    "    \n",
    "print(curriculos[10])"
   ]
  },
  {
   "attachments": {},
   "cell_type": "markdown",
   "metadata": {},
   "source": [
    "### Análise exploratória dos dados"
   ]
  },
  {
   "cell_type": "code",
   "execution_count": 610,
   "metadata": {},
   "outputs": [
    {
     "data": {
      "image/png": "[encoded data removed]",
      "text/plain": [
       "<Figure size 1000x600 with 1 Axes>"
      ]
     },
     "metadata": {
      "needs_background": "light"
     },
     "output_type": "display_data"
    }
   ],
   "source": [
    "import re\n",
    "import matplotlib.pyplot as plt\n",
    "\n",
    "padrao = r\"\\b(\\d{1,2})\\sanos?\\b\"\n",
    "idades =[]\n",
    "for curriculo in curriculos:\n",
    "    match = re.search(padrao, curriculo)\n",
    "    if match:\n",
    "        idades.append(match.group(1))\n",
    "idades = sorted(idades)\n",
    "\n",
    "plt.figure(figsize=(10, 6), dpi=100)\n",
    "plt.title('Idades dos currículos', fontsize=20)\n",
    "plt.xlabel('Idade', fontsize=15)\n",
    "plt.ylabel('Frequência', fontsize=15)\n",
    "plt.tick_params(labelsize=12)\n",
    "plt.hist(idades, rwidth=0.9, color='red', alpha=0.7, edgecolor='black')\n",
    "plt.show()\n"
   ]
  },
  {
   "attachments": {},
   "cell_type": "markdown",
   "metadata": {},
   "source": [
    "### Pré-processamento do texto"
   ]
  },
  {
   "cell_type": "code",
   "execution_count": 611,
   "metadata": {},
   "outputs": [
    {
     "name": "stdout",
     "output_type": "stream",
     "text": [
      "nome  ana silva  \n",
      "idade  18 anos  \n",
      "objetivo  oportunidade de trabalho em area  administrativa   \n",
      "formacao   \n",
      "ensino medio completo   escola estadual sao paulo  2018  2021   \n",
      "experiencia profissional   \n",
      "atendente de lanchonete   lanchonete sao joao  jan 2022   atualmente   \n",
      "atendimento ao cliente   \n",
      "preparacao de lanches e bebidas   \n",
      "manutencao da limpeza e organizacao do ambiente   \n",
      "habilidades   \n",
      "habilidade em lidar com clientes   \n",
      "boa comunicacao oral e escrita   \n",
      "organizacao e facilidade em trabalhar em equipe   \n",
      "conhecimento basico em informatica   \n",
      "regime de trabalho  presencial ou hibrido   \n"
     ]
    }
   ],
   "source": [
    "#Pre-processamento do texto\n",
    "\n",
    "#LowerCase\n",
    "curriculos = [curriculo.lower() for curriculo in curriculos]\n",
    "\n",
    "# Remoção de pontuação e símbolos\n",
    "# Tabela de pontuação\n",
    "punctuation = string.punctuation\n",
    "# Criar tabela de tradução que susbstituirá toda pontuação por um espaço em branco\n",
    "trantab = str.maketrans(punctuation, len(punctuation)*' ')\n",
    "# Traduzir nosso exemplo\n",
    "curriculos = [curriculo.translate(trantab) for curriculo in curriculos]\n",
    "\n",
    "# Remover caracteres especiais (acentos e afins)\n",
    "curriculos = [unidecode(curriculo) for curriculo in curriculos]\n",
    "\n",
    "print(curriculos[10])\n"
   ]
  },
  {
   "cell_type": "code",
   "execution_count": 612,
   "metadata": {},
   "outputs": [
    {
     "name": "stdout",
     "output_type": "stream",
     "text": [
      "['nome', 'ana', 'silva', 'idade', '18', 'anos', 'objetivo', 'oportunidade', 'de', 'trabalho', 'em', 'area', 'administrativa', 'formacao', 'ensino', 'medio', 'completo', 'escola', 'estadual', 'sao', 'paulo', '2018', '2021', 'experiencia', 'profissional', 'atendente', 'de', 'lanchonete', 'lanchonete', 'sao', 'joao', 'jan', '2022', 'atualmente', 'atendimento', 'ao', 'cliente', 'preparacao', 'de', 'lanches', 'e', 'bebidas', 'manutencao', 'da', 'limpeza', 'e', 'organizacao', 'do', 'ambiente', 'habilidades', 'habilidade', 'em', 'lidar', 'com', 'clientes', 'boa', 'comunicacao', 'oral', 'e', 'escrita', 'organizacao', 'e', 'facilidade', 'em', 'trabalhar', 'em', 'equipe', 'conhecimento', 'basico', 'em', 'informatica', 'regime', 'de', 'trabalho', 'presencial', 'ou', 'hibrido']\n"
     ]
    }
   ],
   "source": [
    "#Pre-processamento do texto\n",
    "\n",
    "#Preparar para remoção de stopwords e radicalização\n",
    "curriculos = [curriculo.split() for curriculo in curriculos]\n",
    "print(curriculos[10])"
   ]
  },
  {
   "cell_type": "code",
   "execution_count": 613,
   "metadata": {},
   "outputs": [
    {
     "name": "stdout",
     "output_type": "stream",
     "text": [
      "['nome', 'ana', 'silva', 'idade', '18', 'anos', 'objetivo', 'oportunidade', 'trabalho', 'area', 'administrativa', 'formacao', 'ensino', 'medio', 'completo', 'escola', 'estadual', 'sao', 'paulo', '2018', '2021', 'experiencia', 'profissional', 'atendente', 'lanchonete', 'lanchonete', 'sao', 'joao', 'jan', '2022', 'atualmente', 'atendimento', 'cliente', 'preparacao', 'lanches', 'bebidas', 'manutencao', 'limpeza', 'organizacao', 'ambiente', 'habilidades', 'habilidade', 'lidar', 'clientes', 'boa', 'comunicacao', 'oral', 'escrita', 'organizacao', 'facilidade', 'trabalhar', 'equipe', 'conhecimento', 'basico', 'informatica', 'regime', 'trabalho', 'presencial', 'hibrido']\n"
     ]
    }
   ],
   "source": [
    "#Pre-processamento do texto\n",
    "\n",
    "#Remover stopwords\n",
    "try:\n",
    "    stopwords_list = stopwords.words('portuguese')\n",
    "except:\n",
    "    nltk.download('stopwords')\n",
    "    stopwords_list = stopwords.words('portuguese')\n",
    "\n",
    "for index, curriculo in enumerate(curriculos):\n",
    "    curriculo = [palavra for palavra in curriculo if (palavra not in stopwords_list) and len(palavra) > 1]\n",
    "    curriculos[index] = curriculo\n",
    "print(curriculos[10])"
   ]
  },
  {
   "cell_type": "code",
   "execution_count": 614,
   "metadata": {},
   "outputs": [
    {
     "name": "stdout",
     "output_type": "stream",
     "text": [
      "nom ana silv idad 18 ano obje oportun trabalh are administr formaca ensin medi complet escol estad sao paul 2018 2021 experienc profiss atend lanchonet lanchonet sao joa jan 2022 atual atend client preparaca lanch beb manutenca limp organizaca ambi habil habil lid client boa comunicaca oral escrit organizaca facil trabalh equip conhec basic informa regim trabalh presenc hibr\n"
     ]
    }
   ],
   "source": [
    "#Pre-processamento do texto\n",
    "\n",
    "#Radicalização\n",
    "nltk.download('rslp', quiet=True)\n",
    "porter = nltk.stem.RSLPStemmer()\n",
    "for index, curriculo in enumerate(curriculos):\n",
    "    curriculo = \" \".join([porter.stem(palavra) for palavra in curriculo])\n",
    "    curriculos[index] = curriculo\n",
    "print(curriculos[10])"
   ]
  }
 ],
 "metadata": {
  "kernelspec": {
   "display_name": "Python 3",
   "language": "python",
   "name": "python3"
  },
  "language_info": {
   "codemirror_mode": {
    "name": "ipython",
    "version": 3
   },
   "file_extension": ".py",
   "mimetype": "text/x-python",
   "name": "python",
   "nbconvert_exporter": "python",
   "pygments_lexer": "ipython3",
   "version": "3.10.0"
  },
  "orig_nbformat": 4
 },
 "nbformat": 4,
 "nbformat_minor": 2
}
