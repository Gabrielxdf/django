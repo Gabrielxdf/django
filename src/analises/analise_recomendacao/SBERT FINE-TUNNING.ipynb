{
 "cells": [
  {
   "cell_type": "code",
   "execution_count": null,
   "metadata": {},
   "outputs": [],
   "source": [
    "from torch.utils.data import DataLoader\n",
    "import pandas as pd\n",
    "import re\n",
    "from sentence_transformers import SentenceTransformer, InputExample, models, evaluation, losses\n",
    "from sklearn.model_selection import train_test_split\n",
    "import random"
   ]
  },
  {
   "cell_type": "markdown",
   "metadata": {},
   "source": [
    "# Obtendo os dados"
   ]
  },
  {
   "cell_type": "code",
   "execution_count": null,
   "metadata": {},
   "outputs": [],
   "source": [
    "# Lendo e salvando para CSV\n",
    "def obter_dados_csv():\n",
    "    df_dados = pd.read_csv('dados.csv')\n",
    "    df_dados.to_csv('dados.csv', index=False, encoding='utf-8')\n",
    "    return df_dados"
   ]
  },
  {
   "cell_type": "code",
   "execution_count": null,
   "metadata": {},
   "outputs": [],
   "source": [
    "df_dados = obter_dados_csv()\n",
    "df_dados"
   ]
  },
  {
   "cell_type": "markdown",
   "metadata": {},
   "source": [
    "# Removendo os dígitos"
   ]
  },
  {
   "cell_type": "code",
   "execution_count": null,
   "metadata": {},
   "outputs": [],
   "source": [
    "df_dados[\"curriculos\"] = df_dados[\"curriculos\"].apply(lambda x: re.sub('\\d+', '', x))\n",
    "df_dados[\"vagas\"] = df_dados[\"vagas\"].apply(lambda x: re.sub('\\d+', '', x))"
   ]
  },
  {
   "cell_type": "markdown",
   "metadata": {},
   "source": [
    "# Transformando as notas em scores de similaridade"
   ]
  },
  {
   "cell_type": "code",
   "execution_count": null,
   "metadata": {},
   "outputs": [],
   "source": [
    "df_dados[\"notas\"] = df_dados[\"notas\"].apply(lambda x: x * 0.2)\n",
    "# 1 -> 0.2\n",
    "# 2 -> 0.4\n",
    "# 3 -> 0.6\n",
    "# 4 -> 0.8\n",
    "# 5 -> 1.0\n",
    "df_dados"
   ]
  },
  {
   "cell_type": "markdown",
   "metadata": {},
   "source": [
    "# Preparando os dados para treinamento"
   ]
  },
  {
   "cell_type": "code",
   "execution_count": null,
   "metadata": {},
   "outputs": [],
   "source": [
    "data_examples = []\n",
    "for index, row in df_dados.iterrows():\n",
    "    data_examples.append(InputExample(texts=[row['curriculos'], row['vagas']], label=row['notas']))\n",
    "\n",
    "# Dividindo os dados em 80% treino e 20% validação\n",
    "indice_treino = int(len(data_examples) * 0.8)\n",
    "random.shuffle(data_examples)\n",
    "\n",
    "train_examples = data_examples[:indice_treino]\n",
    "val_examples = data_examples[indice_treino:]\n",
    "\n",
    "# Criando os Dataloaders do PyTorch\n",
    "train_dataloader = DataLoader(train_examples, shuffle=True, batch_size=4)"
   ]
  },
  {
   "cell_type": "markdown",
   "metadata": {},
   "source": [
    "# Treinamento"
   ]
  },
  {
   "cell_type": "code",
   "execution_count": null,
   "metadata": {},
   "outputs": [],
   "source": [
    "checkpoint = 'sentence-transformers/paraphrase-multilingual-MiniLM-L12-v2'\n",
    "\n",
    "word_embedding_model = models.Transformer(checkpoint, cache_dir=f'model/{checkpoint}')\n",
    "pooling_model = models.Pooling(word_embedding_model.get_word_embedding_dimension(), pooling_mode='cls')\n",
    "model = SentenceTransformer(modules=[word_embedding_model, pooling_model])\n",
    "\n",
    "train_loss = losses.CosineSimilarityLoss(model)\n",
    "\n",
    "# Uma lista com os textos puros e a similaridade. O evaluator aceita apenas esse tipo de entrada.\n",
    "evaluator = evaluation.EmbeddingSimilarityEvaluator.from_input_examples(val_examples, name='teste')\n",
    "\n",
    "model.fit(train_objectives=[(train_dataloader, train_loss)], epochs=5, evaluator=evaluator, show_progress_bar=True, output_path=f'model_FT/{checkpoint}')"
   ]
  },
  {
   "cell_type": "code",
   "execution_count": null,
   "metadata": {},
   "outputs": [],
   "source": [
    "#fazer os testes com NDCG?"
   ]
  }
 ],
 "metadata": {
  "kernelspec": {
   "display_name": "Python 3",
   "language": "python",
   "name": "python3"
  },
  "language_info": {
   "codemirror_mode": {
    "name": "ipython",
    "version": 3
   },
   "file_extension": ".py",
   "mimetype": "text/x-python",
   "name": "python",
   "nbconvert_exporter": "python",
   "pygments_lexer": "ipython3",
   "version": "3.10.0"
  }
 },
 "nbformat": 4,
 "nbformat_minor": 2
}
